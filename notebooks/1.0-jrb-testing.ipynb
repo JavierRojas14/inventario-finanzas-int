{
 "cells": [
  {
   "cell_type": "code",
   "execution_count": 718,
   "id": "e721ec37",
   "metadata": {},
   "outputs": [
    {
     "name": "stdout",
     "output_type": "stream",
     "text": [
      "The autoreload extension is already loaded. To reload it, use:\n",
      "  %reload_ext autoreload\n"
     ]
    }
   ],
   "source": [
    "import sys\n",
    "import os\n",
    "\n",
    "project_root = os.path.abspath('..')\n",
    "if project_root not in sys.path:\n",
    "    sys.path.append(project_root)\n",
    " \n",
    "%load_ext autoreload\n",
    "%autoreload 2"
   ]
  },
  {
   "cell_type": "code",
   "execution_count": 719,
   "id": "b5253138",
   "metadata": {},
   "outputs": [],
   "source": [
    "import pandas as pd\n",
    "import numpy as np\n",
    "\n",
    "import inventario_finanzas_int.funciones_auxiliares as fa\n",
    "\n",
    "pd.set_option(\"display.max_columns\", None)"
   ]
  },
  {
   "cell_type": "code",
   "execution_count": 720,
   "id": "f5027f8a",
   "metadata": {},
   "outputs": [],
   "source": [
    "\n",
    "# lee mobiliarios\n",
    "df_mobiliario = pd.read_csv(\"../data/processed/df_procesada_mobiliarios.csv\")\n",
    "\n",
    "# Lee equipos medicos y los ordena\n",
    "df_equipos_medicos = pd.read_csv(\"../data/processed/df_procesada_equipos_medicos.csv\")\n",
    "df_equipos_medicos = df_equipos_medicos.sort_values(\n",
    "    [\"piso\", \"unidadservicio_clinico\", \"ubicacion_unidad\", \"bien\"],\n",
    "    ascending=[True, True, False, True],\n",
    ")\n",
    "\n",
    "# lee Industriales, y elimina las columnas completamente vacias\n",
    "df_industriales = pd.read_csv(\"../data/processed/df_procesada_industriales.csv\")\n",
    "df_industriales = df_industriales.dropna(axis=1, how=\"all\")\n",
    "df_industriales = df_industriales.sort_values(\n",
    "    [\"piso\", \"unidadservicio_clinico\", \"ubicacion_unidad\", \"bien\"],\n",
    "    ascending=[True, True, False, True],\n",
    ")\n",
    "\n",
    "# Lee Informaticos\n",
    "df_informaticos = pd.read_csv(\"../data/processed/df_procesada_informaticos.csv\")"
   ]
  },
  {
   "cell_type": "code",
   "execution_count": 721,
   "id": "3031c660",
   "metadata": {},
   "outputs": [],
   "source": [
    "union_bienes_con_informatico = pd.concat(\n",
    "    [df_mobiliario, df_equipos_medicos, df_industriales, df_informaticos]\n",
    ")\n",
    "\n",
    "# Deja solamente las columnas utiles\n",
    "columnas_utiles = [\n",
    "    \"correlativo_antiguo\",\n",
    "    \"n_inventario_2025\",\n",
    "    \"bien\",\n",
    "    \"marca\",\n",
    "    \"modelo\",\n",
    "    \"serie\",\n",
    "    \"tipo_bien\",\n",
    "    \"piso\",\n",
    "    \"unidadservicio_clinico\",\n",
    "    \"ubicacion_unidad\",\n",
    "    \"propiedad\",\n",
    "    \"observaciones\",\n",
    "]\n",
    "\n",
    "# Agrega el conteo de bienes\n",
    "union_bienes_con_informatico[\"conteo\"] = 1\n",
    "\n",
    "conteo_equipos = pd.pivot_table(\n",
    "    union_bienes_con_informatico,\n",
    "    columns=\"tipo_bien\",\n",
    "    index=\"unidadservicio_clinico\",\n",
    "    values=\"conteo\",\n",
    "    fill_value=0,\n",
    "    aggfunc=\"sum\",\n",
    ")"
   ]
  },
  {
   "cell_type": "code",
   "execution_count": 722,
   "id": "490bf636",
   "metadata": {},
   "outputs": [],
   "source": [
    "unidades_a_preguntar = [\n",
    "    \"4 NORTE\",\n",
    "    \"CAMAS MEDIAS RESPIRATORIO\",\n",
    "    \"ENFERMERA COORDINADORA\",\n",
    "    \"FARMACIAS\",\n",
    "    \"JEFE MEDICO CARDIOCIRUGIA\",\n",
    "    \"MEDICINA RESPIRATORIA\",\n",
    "    \"MQ\",\n",
    "    \"RECEPCION DE MUESTRA\",\n",
    "    \"SALA CLINICA 3ERO SUR\",\n",
    "    \"SALA DE MEDICOS CARDIOCIRUGIA\",\n",
    "    \"SALA MEDICOS\",\n",
    "    \"SALA RESIDENTE 3RO NORTE\",\n",
    "    \"SECRETARIA CARDIOCIRUGIA\",\n",
    "    \"SECRETARIA ENFERMERIA UTI 2\",\n",
    "    \"UCHILE\",\n",
    "    \"UCI 5\",\n",
    "    \"UNIDAD PACIENTE CRITICO 3\",\n",
    "    \"UPC\",\n",
    "    \"UCI-UPC\",\n",
    "    \"UCI-UTI\",\n",
    "    \"UPC 3\",\n",
    "    \"UPC 4\",\n",
    "    \"UPC 5 PISO\",\n",
    "    \"UPC-UCI\",\n",
    "    \"UTI 4\",\n",
    "    \"UCI 5 NORTE\",\n",
    "]"
   ]
  },
  {
   "cell_type": "code",
   "execution_count": 723,
   "id": "a33ff522",
   "metadata": {},
   "outputs": [
    {
     "data": {
      "text/html": [
       "<div>\n",
       "<style scoped>\n",
       "    .dataframe tbody tr th:only-of-type {\n",
       "        vertical-align: middle;\n",
       "    }\n",
       "\n",
       "    .dataframe tbody tr th {\n",
       "        vertical-align: top;\n",
       "    }\n",
       "\n",
       "    .dataframe thead th {\n",
       "        text-align: right;\n",
       "    }\n",
       "</style>\n",
       "<table border=\"1\" class=\"dataframe\">\n",
       "  <thead>\n",
       "    <tr style=\"text-align: right;\">\n",
       "      <th></th>\n",
       "      <th>correlativo_antiguo</th>\n",
       "      <th>n_inventario_2025</th>\n",
       "      <th>bien</th>\n",
       "      <th>marca</th>\n",
       "      <th>modelo</th>\n",
       "      <th>serie</th>\n",
       "      <th>tipo_bien</th>\n",
       "      <th>piso</th>\n",
       "      <th>unidadservicio_clinico</th>\n",
       "      <th>ubicacion_unidad</th>\n",
       "      <th>propiedad</th>\n",
       "      <th>observaciones</th>\n",
       "      <th>unidad_hoja</th>\n",
       "      <th>correlativo_2025</th>\n",
       "      <th>tipo</th>\n",
       "      <th>oc</th>\n",
       "      <th>n_factura</th>\n",
       "      <th>ingreso</th>\n",
       "      <th>conteo</th>\n",
       "    </tr>\n",
       "  </thead>\n",
       "  <tbody>\n",
       "  </tbody>\n",
       "</table>\n",
       "</div>"
      ],
      "text/plain": [
       "Empty DataFrame\n",
       "Columns: [correlativo_antiguo, n_inventario_2025, bien, marca, modelo, serie, tipo_bien, piso, unidadservicio_clinico, ubicacion_unidad, propiedad, observaciones, unidad_hoja, correlativo_2025, tipo, oc, n_factura, ingreso, conteo]\n",
       "Index: []"
      ]
     },
     "execution_count": 723,
     "metadata": {},
     "output_type": "execute_result"
    }
   ],
   "source": [
    "union_bienes_con_informatico.query(\"unidadservicio_clinico == 'UTI'\")"
   ]
  },
  {
   "cell_type": "code",
   "execution_count": 724,
   "id": "594139d3",
   "metadata": {},
   "outputs": [
    {
     "data": {
      "text/html": [
       "<div>\n",
       "<style scoped>\n",
       "    .dataframe tbody tr th:only-of-type {\n",
       "        vertical-align: middle;\n",
       "    }\n",
       "\n",
       "    .dataframe tbody tr th {\n",
       "        vertical-align: top;\n",
       "    }\n",
       "\n",
       "    .dataframe thead th {\n",
       "        text-align: right;\n",
       "    }\n",
       "</style>\n",
       "<table border=\"1\" class=\"dataframe\">\n",
       "  <thead>\n",
       "    <tr style=\"text-align: right;\">\n",
       "      <th>tipo_bien</th>\n",
       "      <th>EQUIPO INDUSTRIAL</th>\n",
       "      <th>EQUIPO MEDICO</th>\n",
       "      <th>INFORMATICO</th>\n",
       "      <th>MOBILIARIO</th>\n",
       "    </tr>\n",
       "    <tr>\n",
       "      <th>unidadservicio_clinico</th>\n",
       "      <th></th>\n",
       "      <th></th>\n",
       "      <th></th>\n",
       "      <th></th>\n",
       "    </tr>\n",
       "  </thead>\n",
       "  <tbody>\n",
       "    <tr>\n",
       "      <th>RESIDENCIA 2</th>\n",
       "      <td>3</td>\n",
       "      <td>0</td>\n",
       "      <td>0</td>\n",
       "      <td>0</td>\n",
       "    </tr>\n",
       "    <tr>\n",
       "      <th>RESIDENCIA 3</th>\n",
       "      <td>1</td>\n",
       "      <td>0</td>\n",
       "      <td>0</td>\n",
       "      <td>0</td>\n",
       "    </tr>\n",
       "    <tr>\n",
       "      <th>RESIDENCIA 4</th>\n",
       "      <td>3</td>\n",
       "      <td>0</td>\n",
       "      <td>0</td>\n",
       "      <td>0</td>\n",
       "    </tr>\n",
       "    <tr>\n",
       "      <th>RESIDENCIA/GIMNASIO</th>\n",
       "      <td>5</td>\n",
       "      <td>0</td>\n",
       "      <td>0</td>\n",
       "      <td>0</td>\n",
       "    </tr>\n",
       "    <tr>\n",
       "      <th>UMT</th>\n",
       "      <td>0</td>\n",
       "      <td>20</td>\n",
       "      <td>2</td>\n",
       "      <td>29</td>\n",
       "    </tr>\n",
       "    <tr>\n",
       "      <th>UNIDAD DE APOYO FARMACIA</th>\n",
       "      <td>12</td>\n",
       "      <td>7</td>\n",
       "      <td>21</td>\n",
       "      <td>167</td>\n",
       "    </tr>\n",
       "    <tr>\n",
       "      <th>UNIDAD DE INFECCION INTRAHOSPITALARIA</th>\n",
       "      <td>0</td>\n",
       "      <td>4</td>\n",
       "      <td>0</td>\n",
       "      <td>0</td>\n",
       "    </tr>\n",
       "    <tr>\n",
       "      <th>UPC 5 NORTE</th>\n",
       "      <td>80</td>\n",
       "      <td>160</td>\n",
       "      <td>0</td>\n",
       "      <td>0</td>\n",
       "    </tr>\n",
       "    <tr>\n",
       "      <th>UTI 2</th>\n",
       "      <td>0</td>\n",
       "      <td>0</td>\n",
       "      <td>4</td>\n",
       "      <td>0</td>\n",
       "    </tr>\n",
       "    <tr>\n",
       "      <th>UTI 3 NORTE</th>\n",
       "      <td>80</td>\n",
       "      <td>76</td>\n",
       "      <td>0</td>\n",
       "      <td>0</td>\n",
       "    </tr>\n",
       "    <tr>\n",
       "      <th>UTI 4 NORTE</th>\n",
       "      <td>72</td>\n",
       "      <td>74</td>\n",
       "      <td>6</td>\n",
       "      <td>162</td>\n",
       "    </tr>\n",
       "    <tr>\n",
       "      <th>UTI 4 SUR</th>\n",
       "      <td>56</td>\n",
       "      <td>147</td>\n",
       "      <td>9</td>\n",
       "      <td>310</td>\n",
       "    </tr>\n",
       "    <tr>\n",
       "      <th>UTIM 3 NORTE</th>\n",
       "      <td>0</td>\n",
       "      <td>0</td>\n",
       "      <td>7</td>\n",
       "      <td>138</td>\n",
       "    </tr>\n",
       "  </tbody>\n",
       "</table>\n",
       "</div>"
      ],
      "text/plain": [
       "tipo_bien                              EQUIPO INDUSTRIAL  EQUIPO MEDICO  \\\n",
       "unidadservicio_clinico                                                    \n",
       "RESIDENCIA 2                                           3              0   \n",
       "RESIDENCIA 3                                           1              0   \n",
       "RESIDENCIA 4                                           3              0   \n",
       "RESIDENCIA/GIMNASIO                                    5              0   \n",
       "UMT                                                    0             20   \n",
       "UNIDAD DE APOYO FARMACIA                              12              7   \n",
       "UNIDAD DE INFECCION INTRAHOSPITALARIA                  0              4   \n",
       "UPC 5 NORTE                                           80            160   \n",
       "UTI 2                                                  0              0   \n",
       "UTI 3 NORTE                                           80             76   \n",
       "UTI 4 NORTE                                           72             74   \n",
       "UTI 4 SUR                                             56            147   \n",
       "UTIM 3 NORTE                                           0              0   \n",
       "\n",
       "tipo_bien                              INFORMATICO  MOBILIARIO  \n",
       "unidadservicio_clinico                                          \n",
       "RESIDENCIA 2                                     0           0  \n",
       "RESIDENCIA 3                                     0           0  \n",
       "RESIDENCIA 4                                     0           0  \n",
       "RESIDENCIA/GIMNASIO                              0           0  \n",
       "UMT                                              2          29  \n",
       "UNIDAD DE APOYO FARMACIA                        21         167  \n",
       "UNIDAD DE INFECCION INTRAHOSPITALARIA            0           0  \n",
       "UPC 5 NORTE                                      0           0  \n",
       "UTI 2                                            4           0  \n",
       "UTI 3 NORTE                                      0           0  \n",
       "UTI 4 NORTE                                      6         162  \n",
       "UTI 4 SUR                                        9         310  \n",
       "UTIM 3 NORTE                                     7         138  "
      ]
     },
     "execution_count": 724,
     "metadata": {},
     "output_type": "execute_result"
    }
   ],
   "source": [
    "conteo_equipos.query(\"unidadservicio_clinico not in (@unidades_a_preguntar)\").iloc[28:, :]"
   ]
  },
  {
   "cell_type": "markdown",
   "id": "25f03807",
   "metadata": {},
   "source": [
    "## Asignacion de Correlativos\n",
    "\n",
    "Se hara de forma separada"
   ]
  },
  {
   "cell_type": "code",
   "execution_count": 725,
   "id": "36eb4b5a",
   "metadata": {},
   "outputs": [],
   "source": [
    "GLOSAS_EQUIPOS_MEDICOS_CON_CORRELATIVO = [\"INT\", \"INT (SSMO)\", \"INT (MINSAL)\", \"COMODATO\"]\n",
    "GLOSAS_INDUSTRIALES_CON_CORRELATIVO = [\"INT\", \"INT (MEL)\", \"INT (DONACION)\", \"COMODATO\"]"
   ]
  },
  {
   "cell_type": "code",
   "execution_count": 726,
   "id": "cb50c5c9",
   "metadata": {},
   "outputs": [],
   "source": [
    "ULTIMO_CORRELATIVO = 4015 + 1\n",
    "# Identifica los registros a los que hay que asignar correlativo\n",
    "mask_correlativo_medicos = df_equipos_medicos[\"propiedad\"].isin(\n",
    "    GLOSAS_EQUIPOS_MEDICOS_CON_CORRELATIVO\n",
    ")\n",
    "df_equipos_medicos_con_correlativos = df_equipos_medicos[mask_correlativo_medicos]\n",
    "\n",
    "# Asigna correlativos a los registros que requieren correlativo\n",
    "correlativos_equipos_medicos = [\n",
    "    f\"2025-{i}\"\n",
    "    for i in range(\n",
    "        ULTIMO_CORRELATIVO, ULTIMO_CORRELATIVO + len(df_equipos_medicos_con_correlativos)\n",
    "    )\n",
    "]\n",
    "df_equipos_medicos.loc[mask_correlativo_medicos, \"correlativo_2025\"] = correlativos_equipos_medicos\n",
    "df_equipos_medicos[\"correlativo_2025\"] = df_equipos_medicos[\"correlativo_2025\"].replace(\n",
    "    \"nan\", np.nan\n",
    ")"
   ]
  },
  {
   "cell_type": "code",
   "execution_count": 727,
   "id": "0b399ac3",
   "metadata": {},
   "outputs": [],
   "source": [
    "# Aisla el ultimo correlativo asignado\n",
    "ULTIMO_CORRELATIVO_MEDICOS = int(\n",
    "    df_equipos_medicos[\"correlativo_2025\"].dropna().iloc[-1].split(\"-\")[-1]\n",
    ")\n",
    "\n",
    "PRIMER_CORRELATIVO_INDUSTRIALES = ULTIMO_CORRELATIVO_MEDICOS + 1\n",
    "# Identifica los registros a los que hay que asignar correlativo\n",
    "mask_correlativos_ind = df_industriales[\"propiedad\"].isin(GLOSAS_INDUSTRIALES_CON_CORRELATIVO)\n",
    "df_industriales_con_correlativos = df_industriales[mask_correlativos_ind]\n",
    "\n",
    "# Asigna los correlativos a los registros que requieren correlativo\n",
    "correlativos_industriales = [\n",
    "    f\"2025-{i}\"\n",
    "    for i in range(\n",
    "        PRIMER_CORRELATIVO_INDUSTRIALES,\n",
    "        PRIMER_CORRELATIVO_INDUSTRIALES + len(df_industriales_con_correlativos),\n",
    "    )\n",
    "]\n",
    "\n",
    "df_industriales.loc[mask_correlativos_ind, \"correlativo_2025\"] = correlativos_industriales\n",
    "df_industriales[\"correlativo_2025\"] = df_industriales[\"correlativo_2025\"].replace(\"nan\", np.nan)"
   ]
  },
  {
   "cell_type": "code",
   "execution_count": 728,
   "id": "316547e9",
   "metadata": {},
   "outputs": [],
   "source": [
    "# Genera la matriz total de bienes\n",
    "matriz_total_correlativos = pd.concat([df_equipos_medicos, df_industriales])\n",
    "matriz_total_correlativos = matriz_total_correlativos.drop(columns=\"unidad_hoja\")\n",
    "\n",
    "# Reordena columnas de matriz total\n",
    "orden_columnas = [\"correlativo_antiguo\", \"correlativo_2025\"] + list(\n",
    "    matriz_total_correlativos.columns.drop([\"correlativo_antiguo\", \"correlativo_2025\"])\n",
    ")\n",
    "matriz_total_correlativos = matriz_total_correlativos[orden_columnas]"
   ]
  },
  {
   "cell_type": "code",
   "execution_count": 729,
   "id": "11b94842",
   "metadata": {},
   "outputs": [],
   "source": [
    "# Exporta asignando correlativos\n",
    "df_equipos_medicos.to_excel(\"../data/interim/matriz_equipos_medicos_2025.xlsx\", index=False)\n",
    "df_industriales.to_excel(\"../data/interim/matriz_industriales_2025.xlsx\", index=False)"
   ]
  },
  {
   "cell_type": "code",
   "execution_count": 730,
   "id": "059ac120",
   "metadata": {},
   "outputs": [
    {
     "name": "stdout",
     "output_type": "stream",
     "text": [
      "✅ Archivo guardado exitosamente en: ../data/interim/matriz_bienes_INT_2025.xlsx\n"
     ]
    }
   ],
   "source": [
    "fa.guardar_dataframe_como_tabla_excel(\n",
    "    matriz_total_correlativos,\n",
    "    \"../data/interim/matriz_bienes_INT_2025.xlsx\",\n",
    "    nombre_tabla=\"MatrizBienes\",\n",
    "    estilo_tabla=\"TableStyleMedium1\"\n",
    ")"
   ]
  },
  {
   "cell_type": "markdown",
   "id": "b41a915d",
   "metadata": {},
   "source": [
    "## Exportar bases para etiquetas"
   ]
  },
  {
   "cell_type": "code",
   "execution_count": 731,
   "id": "f2158a12",
   "metadata": {},
   "outputs": [
    {
     "name": "stdout",
     "output_type": "stream",
     "text": [
      "✅ Archivo guardado exitosamente en: ../data/interim/etiquetas_equipos_medicos/ETIQUETAS EQUIPOS MEDICOS MEDICINA FISICA Y REHABILITACION.xlsx\n",
      "✅ Archivo guardado exitosamente en: ../data/interim/etiquetas_equipos_medicos/ETIQUETAS EQUIPOS MEDICOS CONSULTORIO EXTERNO.xlsx\n",
      "✅ Archivo guardado exitosamente en: ../data/interim/etiquetas_equipos_medicos/ETIQUETAS EQUIPOS MEDICOS LABORATORIO.xlsx\n",
      "✅ Archivo guardado exitosamente en: ../data/interim/etiquetas_equipos_medicos/ETIQUETAS EQUIPOS MEDICOS UNIDAD DE APOYO FARMACIA.xlsx\n",
      "✅ Archivo guardado exitosamente en: ../data/interim/etiquetas_equipos_medicos/ETIQUETAS EQUIPOS MEDICOS FUNCION PULMONAR.xlsx\n",
      "✅ Archivo guardado exitosamente en: ../data/interim/etiquetas_equipos_medicos/ETIQUETAS EQUIPOS MEDICOS UMT.xlsx\n",
      "✅ Archivo guardado exitosamente en: ../data/interim/etiquetas_equipos_medicos/ETIQUETAS EQUIPOS MEDICOS MQ 3 NORTE.xlsx\n",
      "✅ Archivo guardado exitosamente en: ../data/interim/etiquetas_equipos_medicos/ETIQUETAS EQUIPOS MEDICOS MQ 3 SUR.xlsx\n",
      "✅ Archivo guardado exitosamente en: ../data/interim/etiquetas_equipos_medicos/ETIQUETAS EQUIPOS MEDICOS UPC 5 NORTE.xlsx\n",
      "✅ Archivo guardado exitosamente en: ../data/interim/etiquetas_equipos_medicos/ETIQUETAS EQUIPOS MEDICOS UTI 3 NORTE.xlsx\n",
      "✅ Archivo guardado exitosamente en: ../data/interim/etiquetas_equipos_medicos/ETIQUETAS EQUIPOS MEDICOS UTI 4 SUR.xlsx\n",
      "✅ Archivo guardado exitosamente en: ../data/interim/etiquetas_equipos_medicos/ETIQUETAS EQUIPOS MEDICOS CIRUGIA DE TORAX.xlsx\n",
      "✅ Archivo guardado exitosamente en: ../data/interim/etiquetas_equipos_medicos/ETIQUETAS EQUIPOS MEDICOS UTI 4 NORTE.xlsx\n",
      "✅ Archivo guardado exitosamente en: ../data/interim/etiquetas_equipos_medicos/ETIQUETAS EQUIPOS MEDICOS UNIDAD DE INFECCION INTRAHOSPITALARIA.xlsx\n"
     ]
    }
   ],
   "source": [
    "# Aisla la matriz de equipos medicos\n",
    "for unidad in matriz_total_correlativos.query(\"tipo_bien == 'EQUIPO MEDICO'\")[\n",
    "    \"unidadservicio_clinico\"\n",
    "].unique():\n",
    "    # Aisla la unidad\n",
    "    df_equipos_medicos_unidad = df_equipos_medicos.query(\"unidadservicio_clinico == @unidad\")\n",
    "\n",
    "    fa.guardar_dataframe_como_tabla_excel(\n",
    "        df_equipos_medicos_unidad,\n",
    "        f\"../data/interim/etiquetas_equipos_medicos/ETIQUETAS EQUIPOS MEDICOS {unidad}.xlsx\",\n",
    "        nombre_tabla=\"MatrizBienes\",\n",
    "        estilo_tabla=\"TableStyleMedium1\",\n",
    "    )"
   ]
  },
  {
   "cell_type": "code",
   "execution_count": 732,
   "id": "8b4cb500",
   "metadata": {},
   "outputs": [
    {
     "data": {
      "text/plain": [
       "propiedad\n",
       "INT                         872\n",
       "COMODATO                     91\n",
       "ARRIENDO                      4\n",
       "PRESTAMO HOSMET               3\n",
       "INT (SSMO)                    3\n",
       "INT (MINSAL)                  2\n",
       "REVISAR DONACION GRIFOLS      1\n",
       "DRA. LINACRE                  1\n",
       "Name: count, dtype: int64"
      ]
     },
     "execution_count": 732,
     "metadata": {},
     "output_type": "execute_result"
    }
   ],
   "source": [
    "matriz_total_correlativos.query(\"tipo_bien == 'EQUIPO MEDICO'\")[\"propiedad\"].value_counts()"
   ]
  },
  {
   "cell_type": "code",
   "execution_count": null,
   "id": "93705776",
   "metadata": {},
   "outputs": [],
   "source": []
  }
 ],
 "metadata": {
  "kernelspec": {
   "display_name": "inventario-finanzas-int",
   "language": "python",
   "name": "python3"
  },
  "language_info": {
   "codemirror_mode": {
    "name": "ipython",
    "version": 3
   },
   "file_extension": ".py",
   "mimetype": "text/x-python",
   "name": "python",
   "nbconvert_exporter": "python",
   "pygments_lexer": "ipython3",
   "version": "3.10.17"
  }
 },
 "nbformat": 4,
 "nbformat_minor": 5
}
