{
 "cells": [
  {
   "cell_type": "code",
   "execution_count": 510,
   "id": "e721ec37",
   "metadata": {},
   "outputs": [
    {
     "name": "stdout",
     "output_type": "stream",
     "text": [
      "The autoreload extension is already loaded. To reload it, use:\n",
      "  %reload_ext autoreload\n"
     ]
    }
   ],
   "source": [
    "import sys\n",
    "import os\n",
    "\n",
    "project_root = os.path.abspath('..')\n",
    "if project_root not in sys.path:\n",
    "    sys.path.append(project_root)\n",
    " \n",
    "%load_ext autoreload\n",
    "%autoreload 2"
   ]
  },
  {
   "cell_type": "code",
   "execution_count": 511,
   "id": "b5253138",
   "metadata": {},
   "outputs": [],
   "source": [
    "import pandas as pd\n",
    "import numpy as np\n",
    "\n",
    "import inventario_finanzas_int.funciones_auxiliares as fa\n",
    "\n",
    "pd.set_option(\"display.max_columns\", None)"
   ]
  },
  {
   "cell_type": "code",
   "execution_count": 512,
   "id": "f5027f8a",
   "metadata": {},
   "outputs": [],
   "source": [
    "df_mobiliario = pd.read_csv(\"../data/processed/df_procesada_mobiliarios.csv\")\n",
    "df_equipos_medicos = pd.read_csv(\"../data/processed/df_procesada_equipos_medicos.csv\")\n",
    "\n",
    "# lee Industriales, y elimina las columnas completamente vacias\n",
    "df_industriales = pd.read_csv(\"../data/processed/df_procesada_industriales.csv\")\n",
    "df_industriales = df_industriales.dropna(axis=1, how=\"all\")\n",
    "\n",
    "# Lee Informaticos\n",
    "df_informaticos = pd.read_csv(\"../data/processed/df_procesada_informaticos.csv\")"
   ]
  },
  {
   "cell_type": "code",
   "execution_count": 513,
   "id": "3031c660",
   "metadata": {},
   "outputs": [],
   "source": [
    "union_bienes_con_informatico = pd.concat(\n",
    "    [df_mobiliario, df_equipos_medicos, df_industriales, df_informaticos]\n",
    ")\n",
    "union_bienes_con_informatico[\"conteo\"] = 1\n",
    "\n",
    "union_bienes_sin_informatico = pd.concat([df_mobiliario, df_equipos_medicos, df_industriales])\n",
    "union_bienes_sin_informatico[\"conteo\"] = 1"
   ]
  },
  {
   "cell_type": "code",
   "execution_count": 514,
   "id": "667056f6",
   "metadata": {},
   "outputs": [],
   "source": [
    "conteo_equipos_con_informatico = pd.pivot_table(\n",
    "    union_bienes_con_informatico,\n",
    "    columns=\"tipo_bien\",\n",
    "    index=\"unidadservicio_clinico\",\n",
    "    values=\"conteo\",\n",
    "    fill_value=0,\n",
    "    aggfunc=\"sum\",\n",
    ")\n",
    "\n",
    "conteo_equipos_sin_informatico = pd.pivot_table(\n",
    "    union_bienes_sin_informatico,\n",
    "    columns=\"tipo_bien\",\n",
    "    index=\"unidadservicio_clinico\",\n",
    "    values=\"conteo\",\n",
    "    fill_value=0,\n",
    "    aggfunc=\"sum\",\n",
    ")"
   ]
  },
  {
   "cell_type": "code",
   "execution_count": 515,
   "id": "ac0bb648",
   "metadata": {},
   "outputs": [],
   "source": [
    "conteo_equipos_con_informatico.query(\"INFORMATICO > 0 \").to_excel(\"prueba.xlsx\")\n",
    "conteo_equipos_sin_informatico.to_excel(\"prueba_2.xlsx\")"
   ]
  },
  {
   "cell_type": "code",
   "execution_count": 516,
   "id": "14fa9b15",
   "metadata": {},
   "outputs": [
    {
     "data": {
      "text/html": [
       "<div>\n",
       "<style scoped>\n",
       "    .dataframe tbody tr th:only-of-type {\n",
       "        vertical-align: middle;\n",
       "    }\n",
       "\n",
       "    .dataframe tbody tr th {\n",
       "        vertical-align: top;\n",
       "    }\n",
       "\n",
       "    .dataframe thead th {\n",
       "        text-align: right;\n",
       "    }\n",
       "</style>\n",
       "<table border=\"1\" class=\"dataframe\">\n",
       "  <thead>\n",
       "    <tr style=\"text-align: right;\">\n",
       "      <th></th>\n",
       "      <th>correlativo_antiguo</th>\n",
       "      <th>bien</th>\n",
       "      <th>marca</th>\n",
       "      <th>modelo</th>\n",
       "      <th>serie</th>\n",
       "      <th>unidadservicio_clinico</th>\n",
       "      <th>ubicacion_unidad</th>\n",
       "      <th>propiedad</th>\n",
       "      <th>piso</th>\n",
       "      <th>tipo_bien</th>\n",
       "    </tr>\n",
       "  </thead>\n",
       "  <tbody>\n",
       "    <tr>\n",
       "      <th>439</th>\n",
       "      <td>1499-2236</td>\n",
       "      <td>ANEXOS</td>\n",
       "      <td>NaN</td>\n",
       "      <td>NaN</td>\n",
       "      <td>NaN</td>\n",
       "      <td>BOX 12</td>\n",
       "      <td>BOX 12</td>\n",
       "      <td>ARRIENDO</td>\n",
       "      <td>1 SUR</td>\n",
       "      <td>INFORMATICO</td>\n",
       "    </tr>\n",
       "  </tbody>\n",
       "</table>\n",
       "</div>"
      ],
      "text/plain": [
       "    correlativo_antiguo    bien marca modelo serie unidadservicio_clinico  \\\n",
       "439           1499-2236  ANEXOS   NaN    NaN   NaN                 BOX 12   \n",
       "\n",
       "    ubicacion_unidad propiedad   piso    tipo_bien  \n",
       "439           BOX 12  ARRIENDO  1 SUR  INFORMATICO  "
      ]
     },
     "execution_count": 516,
     "metadata": {},
     "output_type": "execute_result"
    }
   ],
   "source": [
    "df_informaticos.query(\"unidadservicio_clinico == 'BOX 12'\")"
   ]
  },
  {
   "cell_type": "code",
   "execution_count": 517,
   "id": "87dabacf",
   "metadata": {},
   "outputs": [],
   "source": [
    "df_informaticos.groupby(\"bien\")[\"unidadservicio_clinico\"].value_counts().reset_index().to_excel(\"glosas_informatica.xlsx\")"
   ]
  },
  {
   "cell_type": "code",
   "execution_count": null,
   "id": "91857852",
   "metadata": {},
   "outputs": [],
   "source": []
  }
 ],
 "metadata": {
  "kernelspec": {
   "display_name": "inventario-finanzas-int",
   "language": "python",
   "name": "python3"
  },
  "language_info": {
   "codemirror_mode": {
    "name": "ipython",
    "version": 3
   },
   "file_extension": ".py",
   "mimetype": "text/x-python",
   "name": "python",
   "nbconvert_exporter": "python",
   "pygments_lexer": "ipython3",
   "version": "3.10.17"
  }
 },
 "nbformat": 4,
 "nbformat_minor": 5
}
