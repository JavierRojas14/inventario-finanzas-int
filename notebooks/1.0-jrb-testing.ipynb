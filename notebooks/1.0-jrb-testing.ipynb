{
 "cells": [
  {
   "cell_type": "code",
   "execution_count": 1,
   "id": "e721ec37",
   "metadata": {},
   "outputs": [],
   "source": [
    "import sys\n",
    "import os\n",
    "\n",
    "project_root = os.path.abspath('..')\n",
    "if project_root not in sys.path:\n",
    "    sys.path.append(project_root)\n",
    " \n",
    "%load_ext autoreload\n",
    "%autoreload 2"
   ]
  },
  {
   "cell_type": "code",
   "execution_count": 2,
   "id": "b5253138",
   "metadata": {},
   "outputs": [
    {
     "name": "stderr",
     "output_type": "stream",
     "text": [
      "\u001b[32m2025-04-14 15:13:18.716\u001b[0m | \u001b[1mINFO    \u001b[0m | \u001b[36minventario_finanzas_int.config\u001b[0m:\u001b[36m<module>\u001b[0m:\u001b[36m11\u001b[0m - \u001b[1mPROJ_ROOT path is: C:\\Users\\jarojas\\Desktop\\Javier\\INT\\inventario-finanzas-int\u001b[0m\n"
     ]
    }
   ],
   "source": [
    "import pandas as pd\n",
    "import numpy as np\n",
    "\n",
    "import inventario_finanzas_int.funciones_auxiliares as fa\n",
    "\n",
    "pd.set_option('display.max_columns', None)"
   ]
  },
  {
   "cell_type": "code",
   "execution_count": 26,
   "id": "f5027f8a",
   "metadata": {},
   "outputs": [],
   "source": [
    "df_mobiliario = pd.read_csv(\"../data/processed/df_procesada_mobiliarios.csv\")\n",
    "df_equipos_medicos = pd.read_csv(\"../data/processed/df_procesada_equipos_medicos.csv\")"
   ]
  },
  {
   "cell_type": "code",
   "execution_count": 10,
   "id": "8f591884",
   "metadata": {},
   "outputs": [],
   "source": [
    "RUTA_RAW = \"../data/raw/\"\n",
    "RUTA_INDUSTRIAL = (\n",
    "    RUTA_RAW\n",
    "    + \"EQUIPOS INDUSTRIALES Y DE OFICINA (ALEJANDRO)/CONSOLIDADO BIENES INDUSTRIALES Y DE OFICINA.xlsx\"\n",
    ")\n",
    "\n",
    "df_industriales = pd.read_excel(RUTA_INDUSTRIAL)\n",
    "\n",
    "# Limpia el nombre de las columnas\n",
    "df_industriales_limpio = fa.clean_column_names(df_industriales)\n",
    "df_industriales_limpio = df_industriales_limpio.fillna(\"\")\n",
    "\n",
    "# Limpia las columnas de texto\n",
    "columnas_texto = df_industriales_limpio.drop(columns=\"piso\").columns\n",
    "df_industriales_limpio[columnas_texto] = df_industriales_limpio[columnas_texto].apply(\n",
    "    fa.limpiar_columna_texto\n",
    ")\n",
    "\n",
    "# Ordena los datos\n",
    "df_industriales_limpio = df_industriales_limpio.sort_values([\"unidadservicio_clinico\", \"bien\"])"
   ]
  }
 ],
 "metadata": {
  "kernelspec": {
   "display_name": "inventario-finanzas-int",
   "language": "python",
   "name": "python3"
  },
  "language_info": {
   "codemirror_mode": {
    "name": "ipython",
    "version": 3
   },
   "file_extension": ".py",
   "mimetype": "text/x-python",
   "name": "python",
   "nbconvert_exporter": "python",
   "pygments_lexer": "ipython3",
   "version": "3.10.17"
  }
 },
 "nbformat": 4,
 "nbformat_minor": 5
}
