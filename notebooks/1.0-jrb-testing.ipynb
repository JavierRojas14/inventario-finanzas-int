{
 "cells": [
  {
   "cell_type": "code",
   "execution_count": 28,
   "id": "e721ec37",
   "metadata": {},
   "outputs": [
    {
     "name": "stdout",
     "output_type": "stream",
     "text": [
      "The autoreload extension is already loaded. To reload it, use:\n",
      "  %reload_ext autoreload\n"
     ]
    }
   ],
   "source": [
    "import sys\n",
    "import os\n",
    "\n",
    "project_root = os.path.abspath('..')\n",
    "if project_root not in sys.path:\n",
    "    sys.path.append(project_root)\n",
    " \n",
    "%load_ext autoreload\n",
    "%autoreload 2"
   ]
  },
  {
   "cell_type": "code",
   "execution_count": 29,
   "id": "b5253138",
   "metadata": {},
   "outputs": [],
   "source": [
    "import pandas as pd\n",
    "import numpy as np\n",
    "\n",
    "import inventario_finanzas_int.funciones_auxiliares as fa\n",
    "\n",
    "pd.set_option(\"display.max_columns\", None)"
   ]
  },
  {
   "cell_type": "code",
   "execution_count": 30,
   "id": "f5027f8a",
   "metadata": {},
   "outputs": [],
   "source": [
    "\n",
    "# lee mobiliarios\n",
    "df_mobiliario = pd.read_csv(\"../data/processed/df_procesada_mobiliarios.csv\")\n",
    "\n",
    "# Lee equipos medicos y los ordena\n",
    "df_equipos_medicos = pd.read_csv(\"../data/processed/df_procesada_equipos_medicos.csv\")\n",
    "df_equipos_medicos = df_equipos_medicos.sort_values(\n",
    "    [\"piso\", \"unidadservicio_clinico\", \"ubicacion_unidad\", \"bien\"],\n",
    "    ascending=[True, True, False, True],\n",
    ")\n",
    "\n",
    "# lee Industriales, y elimina las columnas completamente vacias\n",
    "df_industriales = pd.read_csv(\"../data/processed/df_procesada_industriales.csv\")\n",
    "df_industriales = df_industriales.dropna(axis=1, how=\"all\")\n",
    "df_industriales = df_industriales.sort_values(\n",
    "    [\"piso\", \"unidadservicio_clinico\", \"ubicacion_unidad\", \"bien\"],\n",
    "    ascending=[True, True, False, True],\n",
    ")\n",
    "\n",
    "# Lee Informaticos\n",
    "df_informaticos = pd.read_csv(\"../data/processed/df_procesada_informaticos.csv\")"
   ]
  },
  {
   "cell_type": "code",
   "execution_count": 31,
   "id": "3031c660",
   "metadata": {},
   "outputs": [],
   "source": [
    "union_bienes_con_informatico = pd.concat(\n",
    "    [df_mobiliario, df_equipos_medicos, df_industriales, df_informaticos]\n",
    ")\n",
    "\n",
    "# Deja solamente las columnas utiles\n",
    "columnas_utiles = [\n",
    "    \"correlativo_antiguo\",\n",
    "    \"n_inventario_2025\",\n",
    "    \"bien\",\n",
    "    \"marca\",\n",
    "    \"modelo\",\n",
    "    \"serie\",\n",
    "    \"tipo_bien\",\n",
    "    \"piso\",\n",
    "    \"unidadservicio_clinico\",\n",
    "    \"ubicacion_unidad\",\n",
    "    \"propiedad\",\n",
    "    \"observaciones\",\n",
    "]\n",
    "\n",
    "# Agrega el conteo de bienes\n",
    "union_bienes_con_informatico[\"conteo\"] = 1\n",
    "\n",
    "conteo_equipos = pd.pivot_table(\n",
    "    union_bienes_con_informatico,\n",
    "    columns=\"tipo_bien\",\n",
    "    index=\"unidadservicio_clinico\",\n",
    "    values=\"conteo\",\n",
    "    fill_value=0,\n",
    "    aggfunc=\"sum\",\n",
    ")"
   ]
  },
  {
   "cell_type": "code",
   "execution_count": 32,
   "id": "490bf636",
   "metadata": {},
   "outputs": [],
   "source": [
    "unidades_a_preguntar = [\n",
    "    \"4 NORTE\",\n",
    "    \"CAMAS MEDIAS RESPIRATORIO\",\n",
    "    \"ENFERMERA COORDINADORA\",\n",
    "    \"FARMACIAS\",\n",
    "    \"JEFE MEDICO CARDIOCIRUGIA\",\n",
    "    \"MEDICINA RESPIRATORIA\",\n",
    "    \"MQ\",\n",
    "    \"RECEPCION DE MUESTRA\",\n",
    "    \"SALA CLINICA 3ERO SUR\",\n",
    "    \"SALA DE MEDICOS CARDIOCIRUGIA\",\n",
    "    \"SALA MEDICOS\",\n",
    "    \"SALA RESIDENTE 3RO NORTE\",\n",
    "    \"SECRETARIA CARDIOCIRUGIA\",\n",
    "    \"SECRETARIA ENFERMERIA UTI 2\",\n",
    "    \"UCHILE\",\n",
    "    \"UCI 5\",\n",
    "    \"UNIDAD PACIENTE CRITICO 3\",\n",
    "    \"UPC\",\n",
    "    \"UCI-UPC\",\n",
    "    \"UCI-UTI\",\n",
    "    \"UPC 3\",\n",
    "    \"UPC 4\",\n",
    "    \"UPC 5 PISO\",\n",
    "    \"UPC-UCI\",\n",
    "    \"UTI 4\",\n",
    "    \"UCI 5 NORTE\",\n",
    "]"
   ]
  },
  {
   "cell_type": "markdown",
   "id": "25f03807",
   "metadata": {},
   "source": [
    "## Asignacion de Correlativos\n",
    "\n",
    "Se hara de forma separada"
   ]
  },
  {
   "cell_type": "code",
   "execution_count": 33,
   "id": "d3b655fd",
   "metadata": {},
   "outputs": [],
   "source": [
    "GLOSAS_CON_CORRELATIVOS = [\n",
    "    \"INT\",\n",
    "    \"INT (SSMO)\",\n",
    "    \"INT (MEL)\",\n",
    "    \"INT (MINSAL)\",\n",
    "    \"INT (DONACION)\",\n",
    "    \"COMODATO\",\n",
    "]"
   ]
  },
  {
   "cell_type": "code",
   "execution_count": 34,
   "id": "6ba6db90",
   "metadata": {},
   "outputs": [],
   "source": [
    "# Asigna correlativos a equipos medicos\n",
    "df_equipos_medicos, ultimo_correlativo_eq_med = fa.asignar_correlativos(\n",
    "    df_equipos_medicos, 4016, GLOSAS_CON_CORRELATIVOS, \"n_inventario_2025\"\n",
    ")\n",
    "\n",
    "# Asigna correlativos a industriales\n",
    "df_industriales, ultimo_correlativo_ind = fa.asignar_correlativos(\n",
    "    df_industriales, ultimo_correlativo_eq_med + 1, GLOSAS_CON_CORRELATIVOS, \"n_inventario_2025\"\n",
    ")\n",
    "\n",
    "# Asigna correlativos a informaticos\n",
    "df_informaticos, ultimo_correlativo_inf = fa.asignar_correlativos(\n",
    "    df_informaticos, ultimo_correlativo_ind + 1, GLOSAS_CON_CORRELATIVOS, \"n_inventario_2025\"\n",
    ")"
   ]
  },
  {
   "cell_type": "code",
   "execution_count": null,
   "id": "316547e9",
   "metadata": {},
   "outputs": [],
   "source": [
    "# Genera la matriz total de bienes\n",
    "matriz_total_correlativos = pd.concat(\n",
    "    [df_mobiliario, df_equipos_medicos, df_industriales, df_informaticos]\n",
    ")\n",
    "\n",
    "orden_columnas = [\n",
    "    \"correlativo_antiguo\",\n",
    "    \"n_inventario_2025\",\n",
    "    \"bien\",\n",
    "    \"marca\",\n",
    "    \"modelo\",\n",
    "    \"serie\",\n",
    "    \"tipo_bien\",\n",
    "    \"piso\",\n",
    "    \"unidadservicio_clinico\",\n",
    "    \"ubicacion_unidad\",\n",
    "    \"propiedad\",\n",
    "    \"observaciones\",\n",
    "]\n",
    "\n",
    "matriz_total_correlativos = matriz_total_correlativos[orden_columnas]"
   ]
  },
  {
   "cell_type": "code",
   "execution_count": 36,
   "id": "11b94842",
   "metadata": {},
   "outputs": [],
   "source": [
    "# Exporta asignando correlativos\n",
    "df_mobiliario.to_excel(\"../data/interim/1_matriz_mobiliarios_2025.xlsx\", index=False)\n",
    "df_equipos_medicos.to_excel(\"../data/interim/2_matriz_equipos_medicos_2025.xlsx\", index=False)\n",
    "df_industriales.to_excel(\"../data/interim/3_matriz_industriales_2025.xlsx\", index=False)\n",
    "df_informaticos.to_excel(\"../data/interim/4_matriz_informaticos_2025.xlsx\", index=False)"
   ]
  },
  {
   "cell_type": "code",
   "execution_count": 37,
   "id": "059ac120",
   "metadata": {},
   "outputs": [
    {
     "name": "stdout",
     "output_type": "stream",
     "text": [
      "✅ Archivo guardado exitosamente en: ../data/interim/matriz_bienes_INT_2025.xlsx\n"
     ]
    }
   ],
   "source": [
    "fa.guardar_dataframe_como_tabla_excel(\n",
    "    matriz_total_correlativos,\n",
    "    \"../data/interim/matriz_bienes_INT_2025.xlsx\",\n",
    "    nombre_tabla=\"MatrizBienes\",\n",
    "    estilo_tabla=\"TableStyleMedium1\"\n",
    ")"
   ]
  },
  {
   "cell_type": "markdown",
   "id": "b41a915d",
   "metadata": {},
   "source": [
    "## Exportar bases para etiquetas"
   ]
  },
  {
   "cell_type": "code",
   "execution_count": 38,
   "id": "f2158a12",
   "metadata": {},
   "outputs": [
    {
     "name": "stdout",
     "output_type": "stream",
     "text": [
      "✅ Archivo guardado exitosamente en: ../data/interim/etiquetas_equipos_medicos/ETIQUETAS EQUIPOS MEDICOS MEDICINA FISICA Y REHABILITACION.xlsx\n",
      "✅ Archivo guardado exitosamente en: ../data/interim/etiquetas_equipos_medicos/ETIQUETAS EQUIPOS MEDICOS CONSULTORIO EXTERNO.xlsx\n",
      "✅ Archivo guardado exitosamente en: ../data/interim/etiquetas_equipos_medicos/ETIQUETAS EQUIPOS MEDICOS LABORATORIO.xlsx\n",
      "✅ Archivo guardado exitosamente en: ../data/interim/etiquetas_equipos_medicos/ETIQUETAS EQUIPOS MEDICOS UNIDAD DE APOYO FARMACIA.xlsx\n",
      "✅ Archivo guardado exitosamente en: ../data/interim/etiquetas_equipos_medicos/ETIQUETAS EQUIPOS MEDICOS FUNCION PULMONAR.xlsx\n",
      "✅ Archivo guardado exitosamente en: ../data/interim/etiquetas_equipos_medicos/ETIQUETAS EQUIPOS MEDICOS UMT.xlsx\n",
      "✅ Archivo guardado exitosamente en: ../data/interim/etiquetas_equipos_medicos/ETIQUETAS EQUIPOS MEDICOS MQ 3 NORTE.xlsx\n",
      "✅ Archivo guardado exitosamente en: ../data/interim/etiquetas_equipos_medicos/ETIQUETAS EQUIPOS MEDICOS MQ 3 SUR.xlsx\n",
      "✅ Archivo guardado exitosamente en: ../data/interim/etiquetas_equipos_medicos/ETIQUETAS EQUIPOS MEDICOS UPC 5 NORTE.xlsx\n",
      "✅ Archivo guardado exitosamente en: ../data/interim/etiquetas_equipos_medicos/ETIQUETAS EQUIPOS MEDICOS UTI 3 NORTE.xlsx\n",
      "✅ Archivo guardado exitosamente en: ../data/interim/etiquetas_equipos_medicos/ETIQUETAS EQUIPOS MEDICOS UTI 4 SUR.xlsx\n",
      "✅ Archivo guardado exitosamente en: ../data/interim/etiquetas_equipos_medicos/ETIQUETAS EQUIPOS MEDICOS CIRUGIA DE TORAX.xlsx\n",
      "✅ Archivo guardado exitosamente en: ../data/interim/etiquetas_equipos_medicos/ETIQUETAS EQUIPOS MEDICOS UTI 4 NORTE.xlsx\n",
      "✅ Archivo guardado exitosamente en: ../data/interim/etiquetas_equipos_medicos/ETIQUETAS EQUIPOS MEDICOS UNIDAD DE INFECCION INTRAHOSPITALARIA.xlsx\n"
     ]
    }
   ],
   "source": [
    "# Aisla la matriz de equipos medicos\n",
    "for unidad in matriz_total_correlativos.query(\"tipo_bien == 'EQUIPO MEDICO'\")[\n",
    "    \"unidadservicio_clinico\"\n",
    "].unique():\n",
    "    # Aisla la unidad\n",
    "    df_equipos_medicos_unidad = df_equipos_medicos.query(\"unidadservicio_clinico == @unidad\")\n",
    "\n",
    "    fa.guardar_dataframe_como_tabla_excel(\n",
    "        df_equipos_medicos_unidad,\n",
    "        f\"../data/interim/etiquetas_equipos_medicos/ETIQUETAS EQUIPOS MEDICOS {unidad}.xlsx\",\n",
    "        nombre_tabla=\"MatrizBienes\",\n",
    "        estilo_tabla=\"TableStyleMedium1\",\n",
    "    )"
   ]
  }
 ],
 "metadata": {
  "kernelspec": {
   "display_name": "inventario-finanzas-int",
   "language": "python",
   "name": "python3"
  },
  "language_info": {
   "codemirror_mode": {
    "name": "ipython",
    "version": 3
   },
   "file_extension": ".py",
   "mimetype": "text/x-python",
   "name": "python",
   "nbconvert_exporter": "python",
   "pygments_lexer": "ipython3",
   "version": "3.10.17"
  }
 },
 "nbformat": 4,
 "nbformat_minor": 5
}
