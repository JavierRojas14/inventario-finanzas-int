{
 "cells": [
  {
   "cell_type": "code",
   "execution_count": 42,
   "id": "e721ec37",
   "metadata": {},
   "outputs": [
    {
     "name": "stdout",
     "output_type": "stream",
     "text": [
      "The autoreload extension is already loaded. To reload it, use:\n",
      "  %reload_ext autoreload\n"
     ]
    }
   ],
   "source": [
    "import sys\n",
    "import os\n",
    "\n",
    "project_root = os.path.abspath('..')\n",
    "if project_root not in sys.path:\n",
    "    sys.path.append(project_root)\n",
    " \n",
    "%load_ext autoreload\n",
    "%autoreload 2"
   ]
  },
  {
   "cell_type": "code",
   "execution_count": 43,
   "id": "b5253138",
   "metadata": {},
   "outputs": [],
   "source": [
    "import pandas as pd\n",
    "import numpy as np\n",
    "\n",
    "import inventario_finanzas_int.funciones_auxiliares as fa\n",
    "\n",
    "pd.set_option('display.max_columns', None)"
   ]
  },
  {
   "cell_type": "code",
   "execution_count": 44,
   "id": "f5027f8a",
   "metadata": {},
   "outputs": [],
   "source": [
    "df_mobiliario = pd.read_csv(\"../data/processed/df_procesada_mobiliarios.csv\")\n",
    "df_equipos_medicos = pd.read_csv(\"../data/processed/df_procesada_equipos_medicos.csv\")\n",
    "df_industriales = pd.read_csv(\"../data/processed/df_procesada_industriales.csv\")"
   ]
  },
  {
   "cell_type": "code",
   "execution_count": 45,
   "id": "3031c660",
   "metadata": {},
   "outputs": [],
   "source": [
    "union_bienes = pd.concat([df_mobiliario, df_equipos_medicos, df_industriales])"
   ]
  },
  {
   "cell_type": "code",
   "execution_count": 46,
   "id": "cd6b43a1",
   "metadata": {},
   "outputs": [
    {
     "data": {
      "text/plain": [
       "tipo_bien\n",
       "MOBILIARIO           4198\n",
       "EQUIPO MEDICO         973\n",
       "EQUIPO INDUSTRIAL     871\n",
       "Name: count, dtype: int64"
      ]
     },
     "execution_count": 46,
     "metadata": {},
     "output_type": "execute_result"
    }
   ],
   "source": [
    "union_bienes[\"tipo_bien\"].value_counts()"
   ]
  },
  {
   "cell_type": "code",
   "execution_count": 47,
   "id": "5238059e",
   "metadata": {},
   "outputs": [
    {
     "data": {
      "text/plain": [
       "unidadservicio_clinico\n",
       "HEMODINAMIA                              304\n",
       "CONSULTORIO EXTERNO                      262\n",
       "ADMISION                                  74\n",
       "REHEBILITACION CARDIOPULMONAR             20\n",
       "CONGENITOS                                19\n",
       "UPC 5 PISO                                 2\n",
       "ECOCARDIOGRAFIA                            1\n",
       "APNEA DEL SUENO                            1\n",
       "FISIOPATOLOGIA                             1\n",
       "UMT                                        1\n",
       "LAVORATORIO                                1\n",
       "QUIMIOTERAPIA                              1\n",
       "IMAGENOLOGIA                               1\n",
       "FARMACIA HOPITALIZADOS                     1\n",
       "BRONCOSCOPIA                               1\n",
       "UTIM NORTE                                 1\n",
       "UCI 5 NORTE                                1\n",
       "MQ CARDIOVASCULAR                          1\n",
       "UTI NORTE                                  1\n",
       "CIRUGIA DE TORAX                           1\n",
       "UTI SUR                                    1\n",
       "MQ 3 NORTE                                 1\n",
       "MQ 3 SUR                                   1\n",
       "ALIVIO DEL DOLOR- CUIDADOR PALIATIVOS      1\n",
       "UPC                                        1\n",
       "Name: count, dtype: int64"
      ]
     },
     "execution_count": 47,
     "metadata": {},
     "output_type": "execute_result"
    }
   ],
   "source": [
    "union_bienes.query(\"tipo_bien == 'MOBILIARIO'\")[\"unidadservicio_clinico\"].value_counts()"
   ]
  },
  {
   "cell_type": "code",
   "execution_count": 48,
   "id": "667056f6",
   "metadata": {},
   "outputs": [
    {
     "data": {
      "text/plain": [
       "unidadservicio_clinico\n",
       "UPC 5 NORTE                         160\n",
       "UTI 4 SUR                           147\n",
       "MQ 3 SUR                            137\n",
       "LABORATORIO                         131\n",
       "MQ 3 NORTE                          121\n",
       "UTI 3 NORTE                          76\n",
       "UTI 4 NORTE                          74\n",
       "CONSULTORIO EXTERNO                  70\n",
       "FUNCION PULMONAR                     27\n",
       "UMT                                  20\n",
       "UNIDAD DE APOYO FARMACIA              7\n",
       "MEDICINA FISICA Y REHABILITACION      2\n",
       "CIRUGIA DE TORAX                      1\n",
       "Name: count, dtype: int64"
      ]
     },
     "execution_count": 48,
     "metadata": {},
     "output_type": "execute_result"
    }
   ],
   "source": [
    "union_bienes.query(\"tipo_bien == 'EQUIPO MEDICO'\")[\"unidadservicio_clinico\"].value_counts()"
   ]
  },
  {
   "cell_type": "code",
   "execution_count": 49,
   "id": "c93931d0",
   "metadata": {},
   "outputs": [
    {
     "data": {
      "text/plain": [
       "unidadservicio_clinico\n",
       "MQ 3 SUR                            135\n",
       "MQ 3 NORTE                          120\n",
       "UTI 3 NORTE                          80\n",
       "UPC 5 NORTE                          80\n",
       "4 MQ CARDIOVASCULAR                  80\n",
       "UTI 4 NORTE                          72\n",
       "UTI 4 SUR                            56\n",
       "LABORATORIO                          50\n",
       "CONSULTORIO EXTERNO                  39\n",
       "MEDICINA FISICA Y REHABILITACION     35\n",
       "ESTERILIZACION                       32\n",
       "HEMODINAMIA                          30\n",
       "SALA DE MEDICOS CARDIOCIRUGIA        15\n",
       "FARMACIA HOSPITALIZADO               12\n",
       "ANATOMIA PATOLOGICA                  11\n",
       "ADMISION                             10\n",
       "CUIDADOS PALIATIVOS                   7\n",
       "4 NORTE                               6\n",
       "CONGENITO                             1\n",
       "Name: count, dtype: int64"
      ]
     },
     "execution_count": 49,
     "metadata": {},
     "output_type": "execute_result"
    }
   ],
   "source": [
    "union_bienes.query(\"tipo_bien == 'EQUIPO INDUSTRIAL'\")[\"unidadservicio_clinico\"].value_counts()"
   ]
  }
 ],
 "metadata": {
  "kernelspec": {
   "display_name": "inventario-finanzas-int",
   "language": "python",
   "name": "python3"
  },
  "language_info": {
   "codemirror_mode": {
    "name": "ipython",
    "version": 3
   },
   "file_extension": ".py",
   "mimetype": "text/x-python",
   "name": "python",
   "nbconvert_exporter": "python",
   "pygments_lexer": "ipython3",
   "version": "3.10.17"
  }
 },
 "nbformat": 4,
 "nbformat_minor": 5
}
