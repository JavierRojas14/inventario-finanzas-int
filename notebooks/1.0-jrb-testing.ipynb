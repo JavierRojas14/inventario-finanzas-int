{
 "cells": [
  {
   "cell_type": "code",
   "execution_count": 1,
   "id": "e721ec37",
   "metadata": {},
   "outputs": [],
   "source": [
    "import sys\n",
    "import os\n",
    "\n",
    "project_root = os.path.abspath('..')\n",
    "if project_root not in sys.path:\n",
    "    sys.path.append(project_root)\n",
    " \n",
    "%load_ext autoreload\n",
    "%autoreload 2"
   ]
  },
  {
   "cell_type": "code",
   "execution_count": 2,
   "id": "b5253138",
   "metadata": {},
   "outputs": [
    {
     "name": "stderr",
     "output_type": "stream",
     "text": [
      "\u001b[32m2025-04-28 16:30:25.258\u001b[0m | \u001b[1mINFO    \u001b[0m | \u001b[36minventario_finanzas_int.config\u001b[0m:\u001b[36m<module>\u001b[0m:\u001b[36m11\u001b[0m - \u001b[1mPROJ_ROOT path is: C:\\Users\\jarojas\\Desktop\\Javier\\INT\\inventario-finanzas-int\u001b[0m\n"
     ]
    }
   ],
   "source": [
    "import pandas as pd\n",
    "import numpy as np\n",
    "\n",
    "import inventario_finanzas_int.funciones_auxiliares as fa\n",
    "\n",
    "pd.set_option(\"display.max_columns\", None)"
   ]
  },
  {
   "cell_type": "code",
   "execution_count": 3,
   "id": "1764371d",
   "metadata": {},
   "outputs": [],
   "source": [
    "df_mobiliario_consolidado = pd.read_excel(\n",
    "    \"../data/raw/MOBILIARIO (ARIEL)/MATRIZ CORRELATIVA AÑO 2025.xlsx\"\n",
    ")"
   ]
  },
  {
   "cell_type": "code",
   "execution_count": 4,
   "id": "f5027f8a",
   "metadata": {},
   "outputs": [],
   "source": [
    "df_mobiliario = pd.read_csv(\"../data/processed/df_procesada_mobiliarios.csv\")\n",
    "\n",
    "# Lee equipos medicos y los ordena\n",
    "df_equipos_medicos = pd.read_csv(\"../data/processed/df_procesada_equipos_medicos.csv\")\n",
    "df_equipos_medicos = df_equipos_medicos.sort_values(\n",
    "    [\"piso\", \"unidadservicio_clinico\", \"ubicacion_unidad\", \"bien\"],\n",
    "    ascending=[True, True, False, True],\n",
    ")\n",
    "\n",
    "# lee Industriales, y elimina las columnas completamente vacias\n",
    "df_industriales = pd.read_csv(\"../data/processed/df_procesada_industriales.csv\")\n",
    "df_industriales = df_industriales.dropna(axis=1, how=\"all\")\n",
    "df_industriales = df_industriales.sort_values(\n",
    "    [\"piso\", \"unidadservicio_clinico\", \"ubicacion_unidad\", \"bien\"],\n",
    "    ascending=[True, True, False, True],\n",
    ")\n",
    "\n",
    "# Lee Informaticos\n",
    "df_informaticos = pd.read_csv(\"../data/processed/df_procesada_informaticos.csv\")"
   ]
  },
  {
   "cell_type": "code",
   "execution_count": 5,
   "id": "3031c660",
   "metadata": {},
   "outputs": [],
   "source": [
    "union_bienes_con_informatico = pd.concat(\n",
    "    [df_mobiliario, df_equipos_medicos, df_industriales, df_informaticos]\n",
    ")\n",
    "union_bienes_con_informatico[\"conteo\"] = 1\n",
    "\n",
    "union_bienes_sin_informatico = pd.concat([df_mobiliario, df_equipos_medicos, df_industriales])\n",
    "union_bienes_sin_informatico[\"conteo\"] = 1"
   ]
  },
  {
   "cell_type": "code",
   "execution_count": 6,
   "id": "667056f6",
   "metadata": {},
   "outputs": [],
   "source": [
    "conteo_equipos_con_informatico = pd.pivot_table(\n",
    "    union_bienes_con_informatico,\n",
    "    columns=\"tipo_bien\",\n",
    "    index=\"unidadservicio_clinico\",\n",
    "    values=\"conteo\",\n",
    "    fill_value=0,\n",
    "    aggfunc=\"sum\",\n",
    ")\n",
    "\n",
    "conteo_equipos_sin_informatico = pd.pivot_table(\n",
    "    union_bienes_sin_informatico,\n",
    "    columns=\"tipo_bien\",\n",
    "    index=\"unidadservicio_clinico\",\n",
    "    values=\"conteo\",\n",
    "    fill_value=0,\n",
    "    aggfunc=\"sum\",\n",
    ")"
   ]
  },
  {
   "cell_type": "markdown",
   "id": "25f03807",
   "metadata": {},
   "source": [
    "## Asignacion de Correlativos\n",
    "\n",
    "Se hara de forma separada"
   ]
  },
  {
   "cell_type": "code",
   "execution_count": 7,
   "id": "36eb4b5a",
   "metadata": {},
   "outputs": [],
   "source": [
    "GLOSAS_EQUIPOS_MEDICOS_CON_CORRELATIVO = [\"INT\", \"INT (SSMO)\", \"INT (MINSAL)\", \"COMODATO\"]\n",
    "GLOSAS_INDUSTRIALES_CON_CORRELATIVO = [\"INT\", \"INT (MEL)\", \"INT (DONACION)\", \"COMODATO\"]"
   ]
  },
  {
   "cell_type": "code",
   "execution_count": 8,
   "id": "cb50c5c9",
   "metadata": {},
   "outputs": [],
   "source": [
    "ULTIMO_CORRELATIVO = 4015 + 1\n",
    "# Identifica los registros a los que hay que asignar correlativo\n",
    "mask_correlativo_medicos = df_equipos_medicos[\"propiedad\"].isin(\n",
    "    GLOSAS_EQUIPOS_MEDICOS_CON_CORRELATIVO\n",
    ")\n",
    "df_equipos_medicos_con_correlativos = df_equipos_medicos[mask_correlativo_medicos]\n",
    "\n",
    "# Asigna correlativos a los registros que requieren correlativo\n",
    "correlativos_equipos_medicos = [\n",
    "    f\"2025-{i}\"\n",
    "    for i in range(\n",
    "        ULTIMO_CORRELATIVO, ULTIMO_CORRELATIVO + len(df_equipos_medicos_con_correlativos)\n",
    "    )\n",
    "]\n",
    "df_equipos_medicos.loc[mask_correlativo_medicos, \"correlativo_2025\"] = correlativos_equipos_medicos\n",
    "df_equipos_medicos[\"correlativo_2025\"] = df_equipos_medicos[\"correlativo_2025\"].replace(\n",
    "    \"nan\", np.nan\n",
    ")"
   ]
  },
  {
   "cell_type": "code",
   "execution_count": 9,
   "id": "0b399ac3",
   "metadata": {},
   "outputs": [],
   "source": [
    "# Aisla el ultimo correlativo asignado\n",
    "ULTIMO_CORRELATIVO_MEDICOS = int(\n",
    "    df_equipos_medicos[\"correlativo_2025\"].dropna().iloc[-1].split(\"-\")[-1]\n",
    ")\n",
    "\n",
    "PRIMER_CORRELATIVO_INDUSTRIALES = ULTIMO_CORRELATIVO_MEDICOS + 1\n",
    "# Identifica los registros a los que hay que asignar correlativo\n",
    "mask_correlativos_ind = df_industriales[\"propiedad\"].isin(GLOSAS_INDUSTRIALES_CON_CORRELATIVO)\n",
    "df_industriales_con_correlativos = df_industriales[mask_correlativos_ind]\n",
    "\n",
    "# Asigna los correlativos a los registros que requieren correlativo\n",
    "correlativos_industriales = [\n",
    "    f\"2025-{i}\"\n",
    "    for i in range(\n",
    "        PRIMER_CORRELATIVO_INDUSTRIALES,\n",
    "        PRIMER_CORRELATIVO_INDUSTRIALES + len(df_industriales_con_correlativos),\n",
    "    )\n",
    "]\n",
    "\n",
    "df_industriales.loc[mask_correlativos_ind, \"correlativo_2025\"] = correlativos_industriales\n",
    "df_industriales[\"correlativo_2025\"] = df_industriales[\"correlativo_2025\"].replace(\"nan\", np.nan)"
   ]
  },
  {
   "cell_type": "code",
   "execution_count": 10,
   "id": "316547e9",
   "metadata": {},
   "outputs": [],
   "source": [
    "# Genera la matriz total de bienes\n",
    "matriz_total_correlativos = pd.concat([df_equipos_medicos, df_industriales])\n",
    "matriz_total_correlativos = matriz_total_correlativos.drop(columns=\"unidad_hoja\")\n",
    "\n",
    "# Reordena columnas de matriz total\n",
    "orden_columnas = [\"correlativo_antiguo\", \"correlativo_2025\"] + list(\n",
    "    matriz_total_correlativos.columns.drop([\"correlativo_antiguo\", \"correlativo_2025\"])\n",
    ")\n",
    "matriz_total_correlativos = matriz_total_correlativos[orden_columnas]"
   ]
  },
  {
   "cell_type": "code",
   "execution_count": 11,
   "id": "11b94842",
   "metadata": {},
   "outputs": [],
   "source": [
    "# Exporta asignando correlativos\n",
    "df_equipos_medicos.to_excel(\"../data/interim/matriz_equipos_medicos_2025.xlsx\", index=False)\n",
    "df_industriales.to_excel(\"../data/interim/matriz_industriales_2025.xlsx\", index=False)"
   ]
  },
  {
   "cell_type": "code",
   "execution_count": 12,
   "id": "059ac120",
   "metadata": {},
   "outputs": [
    {
     "name": "stdout",
     "output_type": "stream",
     "text": [
      "✅ Archivo guardado exitosamente en: ../data/interim/matriz_bienes_INT_2025.xlsx\n"
     ]
    }
   ],
   "source": [
    "fa.guardar_dataframe_como_tabla_excel(\n",
    "    matriz_total_correlativos,\n",
    "    \"../data/interim/matriz_bienes_INT_2025.xlsx\",\n",
    "    nombre_tabla=\"MatrizBienes\",\n",
    "    estilo_tabla=\"TableStyleMedium1\"\n",
    ")"
   ]
  }
 ],
 "metadata": {
  "kernelspec": {
   "display_name": "inventario-finanzas-int",
   "language": "python",
   "name": "python3"
  },
  "language_info": {
   "codemirror_mode": {
    "name": "ipython",
    "version": 3
   },
   "file_extension": ".py",
   "mimetype": "text/x-python",
   "name": "python",
   "nbconvert_exporter": "python",
   "pygments_lexer": "ipython3",
   "version": "3.10.17"
  }
 },
 "nbformat": 4,
 "nbformat_minor": 5
}
