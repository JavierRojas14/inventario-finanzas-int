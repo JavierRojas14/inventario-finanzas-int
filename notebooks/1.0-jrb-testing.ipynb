{
 "cells": [
  {
   "cell_type": "code",
   "execution_count": 29,
   "id": "e721ec37",
   "metadata": {},
   "outputs": [
    {
     "name": "stdout",
     "output_type": "stream",
     "text": [
      "The autoreload extension is already loaded. To reload it, use:\n",
      "  %reload_ext autoreload\n"
     ]
    }
   ],
   "source": [
    "import sys\n",
    "import os\n",
    "\n",
    "project_root = os.path.abspath('..')\n",
    "if project_root not in sys.path:\n",
    "    sys.path.append(project_root)\n",
    " \n",
    "%load_ext autoreload\n",
    "%autoreload 2"
   ]
  },
  {
   "cell_type": "code",
   "execution_count": 30,
   "id": "b5253138",
   "metadata": {},
   "outputs": [],
   "source": [
    "import pandas as pd\n",
    "import numpy as np\n",
    "\n",
    "import inventario_finanzas_int.funciones_auxiliares as fa\n",
    "\n",
    "pd.set_option(\"display.max_columns\", None)"
   ]
  },
  {
   "cell_type": "code",
   "execution_count": 31,
   "id": "f5027f8a",
   "metadata": {},
   "outputs": [],
   "source": [
    "df_mobiliario = pd.read_csv(\"../data/processed/df_procesada_mobiliarios.csv\")\n",
    "df_equipos_medicos = pd.read_csv(\"../data/processed/df_procesada_equipos_medicos.csv\")\n",
    "\n",
    "# lee Industriales, y elimina las columnas completamente vacias\n",
    "df_industriales = pd.read_csv(\"../data/processed/df_procesada_industriales.csv\")\n",
    "df_industriales = df_industriales.dropna(axis=1, how=\"all\")\n",
    "\n",
    "# Lee Informaticos\n",
    "df_informaticos = pd.read_csv(\"../data/processed/df_procesada_informaticos.csv\")"
   ]
  },
  {
   "cell_type": "code",
   "execution_count": 32,
   "id": "3031c660",
   "metadata": {},
   "outputs": [],
   "source": [
    "union_bienes_con_informatico = pd.concat(\n",
    "    [df_mobiliario, df_equipos_medicos, df_industriales, df_informaticos]\n",
    ")\n",
    "union_bienes_con_informatico[\"conteo\"] = 1\n",
    "\n",
    "union_bienes_sin_informatico = pd.concat([df_mobiliario, df_equipos_medicos, df_industriales])\n",
    "union_bienes_sin_informatico[\"conteo\"] = 1"
   ]
  },
  {
   "cell_type": "markdown",
   "id": "25f03807",
   "metadata": {},
   "source": [
    "## Asignacion de Correlativos"
   ]
  },
  {
   "cell_type": "code",
   "execution_count": 35,
   "id": "4c8d4531",
   "metadata": {},
   "outputs": [],
   "source": [
    "# Solamente obtiene los bienes del hospital\n",
    "bienes_sin_funcionarios = union_bienes_sin_informatico.query(\"propiedad == 'INT'\").copy()\n",
    "\n",
    "# Asigna numero correlativo\n",
    "bienes_sin_funcionarios[\"correlativo_nuevo\"] = [\n",
    "    f\"2025-{i}\" for i in range(1, len(bienes_sin_funcionarios) + 1)\n",
    "]"
   ]
  },
  {
   "cell_type": "code",
   "execution_count": 36,
   "id": "e0e032c6",
   "metadata": {},
   "outputs": [],
   "source": [
    "bienes_sin_funcionarios.to_excel(\"../data/interim/matriz_bienes_INT.xlsx\", index=False)"
   ]
  },
  {
   "cell_type": "code",
   "execution_count": 38,
   "id": "667056f6",
   "metadata": {},
   "outputs": [],
   "source": [
    "conteo_equipos_con_informatico = pd.pivot_table(\n",
    "    union_bienes_con_informatico,\n",
    "    columns=\"tipo_bien\",\n",
    "    index=\"unidadservicio_clinico\",\n",
    "    values=\"conteo\",\n",
    "    fill_value=0,\n",
    "    aggfunc=\"sum\",\n",
    ")\n",
    "\n",
    "conteo_equipos_sin_informatico = pd.pivot_table(\n",
    "    union_bienes_sin_informatico,\n",
    "    columns=\"tipo_bien\",\n",
    "    index=\"unidadservicio_clinico\",\n",
    "    values=\"conteo\",\n",
    "    fill_value=0,\n",
    "    aggfunc=\"sum\",\n",
    ")"
   ]
  }
 ],
 "metadata": {
  "kernelspec": {
   "display_name": "inventario-finanzas-int",
   "language": "python",
   "name": "python3"
  },
  "language_info": {
   "codemirror_mode": {
    "name": "ipython",
    "version": 3
   },
   "file_extension": ".py",
   "mimetype": "text/x-python",
   "name": "python",
   "nbconvert_exporter": "python",
   "pygments_lexer": "ipython3",
   "version": "3.10.17"
  }
 },
 "nbformat": 4,
 "nbformat_minor": 5
}
